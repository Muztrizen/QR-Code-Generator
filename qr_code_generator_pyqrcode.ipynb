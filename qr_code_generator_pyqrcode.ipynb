{
 "cells": [
  {
   "cell_type": "code",
   "execution_count": 4,
   "metadata": {},
   "outputs": [],
   "source": [
    "import pyqrcode \n",
    "import png \n",
    "from pyqrcode import QRCode \n",
    "\n",
    "\n",
    "# String which represents the QR code \n",
    "url = \"https://trizen.com.my/\"\n",
    "\n",
    "# Generate QR code \n",
    "url = pyqrcode.create(url) \n",
    "\n",
    "# Create and save the svg file naming \"myqr.svg\" \n",
    "url.svg(\"trizen_qr_code.svg\", scale = 8) \n",
    "\n",
    "# Create and save the png file naming \"myqr.png\" \n",
    "url.png('trizen_qr_code.png', scale = 6) "
   ]
  }
 ],
 "metadata": {
  "kernelspec": {
   "display_name": "Python 3",
   "language": "python",
   "name": "python3"
  },
  "language_info": {
   "codemirror_mode": {
    "name": "ipython",
    "version": 3
   },
   "file_extension": ".py",
   "mimetype": "text/x-python",
   "name": "python",
   "nbconvert_exporter": "python",
   "pygments_lexer": "ipython3",
   "version": "3.8.5"
  }
 },
 "nbformat": 4,
 "nbformat_minor": 4
}
